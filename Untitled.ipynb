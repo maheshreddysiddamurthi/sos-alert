{
 "cells": [
  {
   "cell_type": "code",
   "execution_count": 3,
   "id": "547a8cd6-5bb3-4883-b8bd-d403db06f967",
   "metadata": {},
   "outputs": [
    {
     "ename": "IndentationError",
     "evalue": "expected an indented block after 'for' statement on line 8 (506687009.py, line 9)",
     "output_type": "error",
     "traceback": [
      "\u001b[0;36m  Cell \u001b[0;32mIn[3], line 9\u001b[0;36m\u001b[0m\n\u001b[0;31m    print(f\" Alert sent to {contact}: {message}\") print(\" Watch vibrating... Alert active.\") time.sleep(1)\u001b[0m\n\u001b[0m                                                                                                          ^\u001b[0m\n\u001b[0;31mIndentationError\u001b[0m\u001b[0;31m:\u001b[0m expected an indented block after 'for' statement on line 8\n"
     ]
    }
   ],
   "source": [
    "import time\n",
    "class AlertDispatchAgent:\n",
    "    def __init__(self, contact_list=None):\n",
    "        if contact_list is None:\n",
    "            contact_list = [\"Family Member\", \"Police\"]\n",
    "        self.contacts = contact_list\n",
    "    def send_alert(self, message):\n",
    "        for contact in self.contacts:\n",
    "print(f\" Alert sent to {contact}: {message}\") print(\" Watch vibrating... Alert active.\") time.sleep(1)\n"
   ]
  },
  {
   "cell_type": "code",
   "execution_count": null,
   "id": "f0fdcb8b-f6f5-4be0-a9ca-c8a5900b8952",
   "metadata": {},
   "outputs": [],
   "source": []
  }
 ],
 "metadata": {
  "kernelspec": {
   "display_name": "Python [conda env:base] *",
   "language": "python",
   "name": "conda-base-py"
  },
  "language_info": {
   "codemirror_mode": {
    "name": "ipython",
    "version": 3
   },
   "file_extension": ".py",
   "mimetype": "text/x-python",
   "name": "python",
   "nbconvert_exporter": "python",
   "pygments_lexer": "ipython3",
   "version": "3.12.7"
  }
 },
 "nbformat": 4,
 "nbformat_minor": 5
}
